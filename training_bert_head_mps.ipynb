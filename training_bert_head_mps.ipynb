{
 "cells": [
  {
   "cell_type": "code",
   "execution_count": 1,
   "id": "1be2812e",
   "metadata": {},
   "outputs": [],
   "source": [
    "import torch\n",
    "\n",
    "device = torch.device('mps')"
   ]
  },
  {
   "cell_type": "code",
   "execution_count": 2,
   "id": "6edd4183",
   "metadata": {},
   "outputs": [
    {
     "name": "stderr",
     "output_type": "stream",
     "text": [
      "Using custom data configuration default\n",
      "Reusing dataset trec (/Users/xinli/.cache/huggingface/datasets/trec/default/1.1.0/751da1ab101b8d297a3d6e9c79ee9b0173ff94c4497b75677b59b61d5467a9b9)\n"
     ]
    }
   ],
   "source": [
    "from datasets import load_dataset\n",
    "\n",
    "trec = load_dataset('trec', split='train[:1000]')"
   ]
  },
  {
   "cell_type": "code",
   "execution_count": 3,
   "id": "7fa0ef32",
   "metadata": {},
   "outputs": [],
   "source": [
    "from transformers import AutoTokenizer\n",
    "\n",
    "tokenizer = AutoTokenizer.from_pretrained('bert-base-uncased')\n",
    "\n",
    "tokens = tokenizer(\n",
    "    trec['text'], max_length=512,\n",
    "    truncation=True, padding='max_length'\n",
    ")"
   ]
  },
  {
   "cell_type": "code",
   "execution_count": 4,
   "id": "b0e39145",
   "metadata": {},
   "outputs": [
    {
     "data": {
      "text/plain": [
       "array([[1., 0., 0., 0., 0., 0.],\n",
       "       [0., 1., 0., 0., 0., 0.],\n",
       "       [1., 0., 0., 0., 0., 0.],\n",
       "       [0., 1., 0., 0., 0., 0.],\n",
       "       [0., 0., 1., 0., 0., 0.]])"
      ]
     },
     "execution_count": 4,
     "metadata": {},
     "output_type": "execute_result"
    }
   ],
   "source": [
    "import numpy as np\n",
    "\n",
    "labels = np.zeros(\n",
    "    (len(trec), max(trec['label-coarse'])+1)\n",
    ")\n",
    "\n",
    "labels[np.arange(len(trec)), trec['label-coarse']] = 1\n",
    "labels[:5]"
   ]
  },
  {
   "cell_type": "code",
   "execution_count": 5,
   "id": "b43a9273",
   "metadata": {},
   "outputs": [],
   "source": [
    "labels = torch.Tensor(labels)"
   ]
  },
  {
   "cell_type": "code",
   "execution_count": 6,
   "id": "784c4349",
   "metadata": {},
   "outputs": [],
   "source": [
    "class TrecDataset(torch.utils.data.Dataset):\n",
    "    def __init__(self, tokens, labels):\n",
    "        self.tokens = tokens\n",
    "        self.labels = labels\n",
    "\n",
    "    def __getitem__(self, idx):\n",
    "        input_ids = self.tokens[idx].ids\n",
    "        attention_mask = self.tokens[idx].attention_mask\n",
    "        labels = self.labels[idx]\n",
    "        \n",
    "        return {\n",
    "            'input_ids': torch.tensor(input_ids),\n",
    "            'attention_mask': torch.tensor(attention_mask),\n",
    "            'labels': torch.tensor(labels)\n",
    "        }\n",
    "\n",
    "    def __len__(self):\n",
    "        return len(self.labels)\n",
    "\n",
    "dataset = TrecDataset(tokens, labels)"
   ]
  },
  {
   "cell_type": "code",
   "execution_count": 7,
   "id": "b89b019d",
   "metadata": {},
   "outputs": [],
   "source": [
    "loader = torch.utils.data.DataLoader(\n",
    "    dataset, batch_size=64\n",
    ")"
   ]
  },
  {
   "cell_type": "code",
   "execution_count": 8,
   "id": "51b7b5a9",
   "metadata": {},
   "outputs": [],
   "source": [
    "from transformers import BertForSequenceClassification, BertConfig\n",
    "\n",
    "config = BertConfig.from_pretrained('bert-base-uncased')\n",
    "config.num_labels = max(trec['label-coarse'])+1\n",
    "model = BertForSequenceClassification(config).to(device)"
   ]
  },
  {
   "cell_type": "code",
   "execution_count": 9,
   "id": "bee82c2e",
   "metadata": {},
   "outputs": [
    {
     "data": {
      "text/plain": [
       "'\\nFine-tuning the entire BERT model on first-gen M1 Mac is not going to work,\\nbut can still fine-tune the classification head.\\nFreezing all BERT layer parameters.\\nLeaving fine-tuning to just to final few classification layers.\\n'"
      ]
     },
     "execution_count": 9,
     "metadata": {},
     "output_type": "execute_result"
    }
   ],
   "source": [
    "'''\n",
    "Fine-tuning the entire BERT model on first-gen M1 Mac is not going to work,\n",
    "but can still fine-tune the classification head.\n",
    "Freezing all BERT layer parameters.\n",
    "Leaving fine-tuning to just to final few classification layers.\n",
    "'''"
   ]
  },
  {
   "cell_type": "code",
   "execution_count": 10,
   "id": "10f2bf3c",
   "metadata": {},
   "outputs": [],
   "source": [
    "for param in model.bert.parameters():\n",
    "    param.requires_grad = False"
   ]
  },
  {
   "cell_type": "code",
   "execution_count": 11,
   "id": "40daa129",
   "metadata": {},
   "outputs": [],
   "source": [
    "model.train()\n",
    "\n",
    "optim = torch.optim.Adam(model.parameters(), lr=5e-5)"
   ]
  },
  {
   "cell_type": "code",
   "execution_count": null,
   "id": "b08e35d6",
   "metadata": {},
   "outputs": [
    {
     "name": "stdout",
     "output_type": "stream",
     "text": [
      "huggingface/tokenizers: The current process just got forked, after parallelism has already been used. Disabling parallelism to avoid deadlocks...\n",
      "To disable this warning, you can either:\n",
      "\t- Avoid using `tokenizers` before the fork if possible\n",
      "\t- Explicitly set the environment variable TOKENIZERS_PARALLELISM=(true | false)\n"
     ]
    },
    {
     "data": {
      "application/vnd.jupyter.widget-view+json": {
       "model_id": "459923d9c19545e581f53491f7e41097",
       "version_major": 2,
       "version_minor": 0
      },
      "text/plain": [
       "  0%|          | 0/16 [00:00<?, ?it/s]"
      ]
     },
     "metadata": {},
     "output_type": "display_data"
    },
    {
     "name": "stderr",
     "output_type": "stream",
     "text": [
      "/var/folders/tm/gn418ss17n53p4v88tmwt9vm0000gn/T/ipykernel_33258/202708837.py:14: UserWarning: To copy construct from a tensor, it is recommended to use sourceTensor.clone().detach() or sourceTensor.clone().detach().requires_grad_(True), rather than torch.tensor(sourceTensor).\n",
      "  'labels': torch.tensor(labels)\n"
     ]
    }
   ],
   "source": [
    "from time import time\n",
    "from tqdm.auto import tqdm\n",
    "\n",
    "loop_time = []\n",
    "\n",
    "# setup loop (using tqdm for the progress bar)\n",
    "loop = tqdm(loader, leave=True)\n",
    "for batch in loop:\n",
    "    batch_mps = {\n",
    "        'input_ids': batch['input_ids'].to(device),\n",
    "        'attention_mask': batch['attention_mask'].to(device),\n",
    "        'labels': batch['labels'].to(device)\n",
    "    }\n",
    "    \n",
    "    t0 = time()\n",
    "    optim.zero_grad()\n",
    "    \n",
    "    outputs = model(**batch_mps)\n",
    "    \n",
    "    loss = outputs[0]\n",
    "    loss.backward()\n",
    "    \n",
    "    optim.step()\n",
    "    \n",
    "    loop_time.append(time()-t0)\n",
    "    loop.set_postfix(loss=loss.item())"
   ]
  },
  {
   "cell_type": "code",
   "execution_count": null,
   "id": "48e67627",
   "metadata": {},
   "outputs": [],
   "source": [
    "loop_time"
   ]
  },
  {
   "cell_type": "code",
   "execution_count": null,
   "id": "ed3dbdf0",
   "metadata": {},
   "outputs": [],
   "source": []
  }
 ],
 "metadata": {
  "kernelspec": {
   "display_name": "dev",
   "language": "python",
   "name": "dev"
  },
  "language_info": {
   "codemirror_mode": {
    "name": "ipython",
    "version": 3
   },
   "file_extension": ".py",
   "mimetype": "text/x-python",
   "name": "python",
   "nbconvert_exporter": "python",
   "pygments_lexer": "ipython3",
   "version": "3.8.13"
  }
 },
 "nbformat": 4,
 "nbformat_minor": 5
}
